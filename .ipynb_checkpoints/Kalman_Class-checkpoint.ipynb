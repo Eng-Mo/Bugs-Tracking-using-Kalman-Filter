{
 "cells": [
  {
   "cell_type": "code",
   "execution_count": null,
   "metadata": {
    "collapsed": true
   },
   "outputs": [],
   "source": [
    "class KalmanF(object):\n",
    "    def __init__ (self,dt,s_frame,u,acc_noise,measurement_noise,ez,ex,p,a,b,c ):\n",
    "        \n",
    "        self.dt=dt #Kalman step process\n",
    "        self.s_frame=s_frame #starting frame\n",
    "        self.u=u # magnitude accelration start\n",
    "        self.acc_nois= acc_noise # accelration noise\n",
    "        self.measurement_noise=measurement_noise\n",
    "        self.ez=ez\n",
    "        self.ex= ex\n",
    "        self.p=p\n",
    "        self.a=a  #starte update matrix\n",
    "        self.b= b\n",
    "        self.c=c"
   ]
  }
 ],
 "metadata": {
  "kernelspec": {
   "display_name": "Python 3",
   "language": "python",
   "name": "python3"
  },
  "language_info": {
   "codemirror_mode": {
    "name": "ipython",
    "version": 3
   },
   "file_extension": ".py",
   "mimetype": "text/x-python",
   "name": "python",
   "nbconvert_exporter": "python",
   "pygments_lexer": "ipython3",
   "version": "3.5.2"
  },
  "widgets": {
   "state": {},
   "version": "1.1.2"
  }
 },
 "nbformat": 4,
 "nbformat_minor": 2
}
