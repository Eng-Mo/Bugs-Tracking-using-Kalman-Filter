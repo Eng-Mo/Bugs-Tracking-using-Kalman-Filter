{
 "cells": [
  {
   "cell_type": "code",
   "execution_count": 1,
   "metadata": {},
   "outputs": [
    {
     "name": "stdout",
     "output_type": "stream",
     "text": [
      "Writing README.md\n"
     ]
    }
   ],
   "source": [
    "%%writefile README.md\n",
    "# Multiple Bugs Tracking  using Kalman Filter\n",
    "\n",
    "This project is a python implementation of the Kalman filter algorithm for multiple bugs tracking in 2D.\n",
    "\n",
    "## Algorithem steps\n",
    "1. Detecting Multiple Bugs using Laplacian of Gaussian\n",
    "2. Intializing Current state estimation `q_estimate` in class `KalmanF` with first frame detections `q`.\n",
    "3. Strat Tracking in frame `s_frame`\n",
    "4. Assign new detections to Tracking `q_estimate` using Hungarian Algorithem.\n",
    "5. Predict the next step in function `predictK(self,tracke)`.\n",
    "6. Calculate Kalman gain `calcKalmanGain()`\n",
    "7. Correct current state `kalmanEstUpdate()`.\n",
    "\n",
    "## Libraries Used\n",
    "* Numpy\n",
    "* skimage\n",
    "* scipy\n",
    "* random\n",
    "* moviepy\n",
    "* OpenCV\n",
    "\n",
    "## Project Files\n",
    "* KalmanF.py contain Kalman Tracking class\n",
    "* Bug_Tracking.ipynb contains detection and tracking pipline"
   ]
  }
 ],
 "metadata": {
  "kernelspec": {
   "display_name": "Python 3",
   "language": "python",
   "name": "python3"
  },
  "language_info": {
   "codemirror_mode": {
    "name": "ipython",
    "version": 3
   },
   "file_extension": ".py",
   "mimetype": "text/x-python",
   "name": "python",
   "nbconvert_exporter": "python",
   "pygments_lexer": "ipython3",
   "version": "3.5.2"
  },
  "widgets": {
   "state": {},
   "version": "1.1.2"
  }
 },
 "nbformat": 4,
 "nbformat_minor": 2
}
